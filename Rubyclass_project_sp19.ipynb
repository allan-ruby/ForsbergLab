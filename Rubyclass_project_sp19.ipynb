{
 "cells": [
  {
   "cell_type": "markdown",
   "metadata": {
    "deletable": true,
    "editable": true
   },
   "source": [
    "# Class Final Project"
   ]
  },
  {
   "cell_type": "markdown",
   "metadata": {
    "deletable": true,
    "editable": true
   },
   "source": [
    "## Instructions:\n",
    "(1) Save the file as YOURLASTNAMEclass_project_sp19\n",
    "\n",
    "\n",
    "(2) Only analyze 2 input files: 1 count table for Part 1, and 1 formatted blast output for Part 2\n",
    "\n",
    "\n",
    "(3) Send the final file to the usual email address"
   ]
  },
  {
   "cell_type": "markdown",
   "metadata": {
    "deletable": true,
    "editable": true
   },
   "source": [
    "## Part 1: Use pandas to determine proportion of Deinococcus and Chloroflexi bacteria in a set of pre-analyzed taxa abundance tables (otu_tables) from 16S rRNA built environment studies."
   ]
  },
  {
   "cell_type": "code",
   "execution_count": 3,
   "metadata": {
    "collapsed": true,
    "deletable": true,
    "editable": true
   },
   "outputs": [],
   "source": [
    "import pandas as pd"
   ]
  },
  {
   "cell_type": "code",
   "execution_count": 4,
   "metadata": {
    "collapsed": true,
    "deletable": true,
    "editable": true
   },
   "outputs": [],
   "source": [
    "#Keep this code the same EXCEPT change the file name\n",
    "data=pd.read_csv('45035_table_w_tax.txt', sep='\\t', index_col=False, low_memory=False)"
   ]
  },
  {
   "cell_type": "code",
   "execution_count": 5,
   "metadata": {
    "collapsed": false
   },
   "outputs": [
    {
     "name": "stdout",
     "output_type": "stream",
     "text": [
      "    OTU ID  1345.O1  1345.O3  1345.O2  1345.M1  1345.M2  1345.M3  1345.M4  \\\n",
      "0  1027904      1.0      1.0      0.0      0.0      0.0      0.0      0.0   \n",
      "1   318609      0.0      0.0      1.0      0.0      0.0      0.0      0.0   \n",
      "2   279910      1.0      2.0      0.0      2.0      1.0      1.0      1.0   \n",
      "3   114170      0.0      1.0      0.0      0.0      0.0      0.0      0.0   \n",
      "4   526875      0.0      0.0      0.0      0.0      0.0      0.0      0.0   \n",
      "\n",
      "   1345.W5  1345.W3  1345.W4  1345.W1  1345.O5  1345.M5  \\\n",
      "0      0.0      0.0      0.0      0.0      0.0      0.0   \n",
      "1      0.0      0.0      0.0      0.0      0.0      0.0   \n",
      "2      1.0      0.0      0.0      0.0      0.0      0.0   \n",
      "3      0.0      0.0      0.0      0.0      0.0      0.0   \n",
      "4      0.0      2.0      0.0      0.0      0.0      0.0   \n",
      "\n",
      "                                            taxonomy  \n",
      "0  k__Bacteria; p__Firmicutes; c__Bacilli; o__Bac...  \n",
      "1  k__Bacteria; p__Proteobacteria; c__Alphaproteo...  \n",
      "2  k__Bacteria; p__Proteobacteria; c__Gammaproteo...  \n",
      "3  k__Bacteria; p__Proteobacteria; c__Deltaproteo...  \n",
      "4  k__Bacteria; p__Bacteroidetes; c__Bacteroidia;...  \n"
     ]
    }
   ],
   "source": [
    "print(data.head())"
   ]
  },
  {
   "cell_type": "markdown",
   "metadata": {
    "deletable": true,
    "editable": true
   },
   "source": [
    "## Sum up the counts for the entire table (All rows and columns). Print the total."
   ]
  },
  {
   "cell_type": "markdown",
   "metadata": {
    "deletable": true,
    "editable": true
   },
   "source": [
    "## Sum up the counts for each all rows that have taxonomy matching the names in the list tax_names below:"
   ]
  },
  {
   "cell_type": "code",
   "execution_count": 86,
   "metadata": {
    "collapsed": true,
    "deletable": true,
    "editable": true
   },
   "outputs": [],
   "source": [
    "tax_names=['Chloroflexi','Deino','TM7']"
   ]
  },
  {
   "cell_type": "markdown",
   "metadata": {
    "deletable": true,
    "editable": true
   },
   "source": [
    "## Print a table of counts for each taxon that looks like this:"
   ]
  },
  {
   "cell_type": "code",
   "execution_count": 87,
   "metadata": {
    "collapsed": true,
    "deletable": true,
    "editable": true
   },
   "outputs": [],
   "source": [
    "#Taxon  Counts  Proportion\n",
    "#Chlor  11.0    0.0015\n",
    "#Deino  8.0     0.0011\n",
    "#TM7    5.0     0.0007"
   ]
  },
  {
   "cell_type": "markdown",
   "metadata": {
    "deletable": true,
    "editable": true
   },
   "source": [
    "## Part 2: Use pandas to parse output of blast results. "
   ]
  },
  {
   "cell_type": "markdown",
   "metadata": {
    "deletable": true,
    "editable": true
   },
   "source": [
    "Parse the blast output that has been formatted with the blast command: \n",
    "\n",
    "\n",
    "$ blastn -query my_seqs.fa -max_target_seqs 1 -db extremo -out fmt6blast.out.txt -perc_identity 98 -outfmt \"6 qseqid sseqid pident qlen length mismatch gapope evalue bitscore salltitles\""
   ]
  },
  {
   "cell_type": "code",
   "execution_count": null,
   "metadata": {
    "collapsed": true,
    "deletable": true,
    "editable": true
   },
   "outputs": [],
   "source": [
    "#Keep this code the same EXCEPT change the file name\n",
    "blast=pd.read_csv('formatted_blast_output.txt', sep='\\t', index_col=False, low_memory=False)"
   ]
  },
  {
   "cell_type": "markdown",
   "metadata": {
    "deletable": true,
    "editable": true
   },
   "source": [
    "For find the matches that match 'Deino', 'Cholorflexi' and 'TM7'.\n",
    "\n",
    "\n",
    "For these matches print a table that has the qsedid, the sseqid, the pident, the evalue adn the salltitles (taxonomy)"
   ]
  },
  {
   "cell_type": "code",
   "execution_count": null,
   "metadata": {
    "collapsed": true,
    "deletable": true,
    "editable": true
   },
   "outputs": [],
   "source": [
    "#The table should have these as the headers:\n",
    "#queryID     SubjID    PerID    e-Value    Taxonomy \n"
   ]
  }
 ],
 "metadata": {
  "kernelspec": {
   "display_name": "Python 3",
   "language": "python",
   "name": "python3"
  },
  "language_info": {
   "codemirror_mode": {
    "name": "ipython",
    "version": 3
   },
   "file_extension": ".py",
   "mimetype": "text/x-python",
   "name": "python",
   "nbconvert_exporter": "python",
   "pygments_lexer": "ipython3",
   "version": "3.5.2"
  }
 },
 "nbformat": 4,
 "nbformat_minor": 2
}
